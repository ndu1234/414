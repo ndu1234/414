{
 "cells": [
  {
   "cell_type": "markdown",
   "id": "4e9d2a11",
   "metadata": {},
   "source": [
    "# NLTK"
   ]
  },
  {
   "cell_type": "code",
   "execution_count": 15,
   "id": "59c22860",
   "metadata": {},
   "outputs": [],
   "source": [
    "import nltk\n",
    "from nltk.tokenize import word_tokenize\n",
    "from nltk.tokenize import TweetTokenizer\n",
    "from nltk.probability import FreqDist\n",
    "\n",
    "\n",
    "def word():\n",
    "    with open(\"test01.txt\", \"r\") as file:\n",
    "        text = file.read()\n",
    "    return text\n",
    "def par(text):\n",
    "    words = word_tokenize(text)\n",
    "    return words\n",
    "def calculate(words):\n",
    "    fdist = FreqDist(words)\n",
    "    return fdist"
   ]
  },
  {
   "cell_type": "code",
   "execution_count": 17,
   "id": "fc83ea42",
   "metadata": {},
   "outputs": [
    {
     "name": "stderr",
     "output_type": "stream",
     "text": [
      "[nltk_data] Downloading package punkt to\n",
      "[nltk_data]     C:\\Users\\ndugl\\AppData\\Roaming\\nltk_data...\n",
      "[nltk_data]   Package punkt is already up-to-date!\n"
     ]
    }
   ],
   "source": [
    "def main():\n",
    "    filename = \"test01.txt\"\n",
    "    w = word()\n",
    "    p = par(\"words\")\n",
    "    c = calculate(\"words\")\n",
    "\n",
    "if __name__ == \"__main__\":\n",
    "    nltk.download('punkt')\n",
    "    main()"
   ]
  },
  {
   "cell_type": "code",
   "execution_count": null,
   "id": "b4fe4573",
   "metadata": {},
   "outputs": [],
   "source": []
  }
 ],
 "metadata": {
  "kernelspec": {
   "display_name": "Python 3 (ipykernel)",
   "language": "python",
   "name": "python3"
  },
  "language_info": {
   "codemirror_mode": {
    "name": "ipython",
    "version": 3
   },
   "file_extension": ".py",
   "mimetype": "text/x-python",
   "name": "python",
   "nbconvert_exporter": "python",
   "pygments_lexer": "ipython3",
   "version": "3.9.13"
  }
 },
 "nbformat": 4,
 "nbformat_minor": 5
}
